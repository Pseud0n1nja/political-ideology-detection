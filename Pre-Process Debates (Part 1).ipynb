{
 "cells": [
  {
   "cell_type": "markdown",
   "metadata": {},
   "source": [
    "Notebook that cleans up the raw debates json, arranges the debate transcripts, identifies speakers and removes HTML. This notebook covers a part of the debates (92 out of 148) which have clear indications of the participants in the debate transcripts. The other debates are in part 2 where the speakers have to be identified manually. \n",
    "\n",
    "**TO DO**: \n",
    "\n",
    "1. Break each statement down to sentences and make tabular csv\n",
    "2. Annotation - Merge with ideology score table "
   ]
  },
  {
   "cell_type": "code",
   "execution_count": 1,
   "metadata": {},
   "outputs": [],
   "source": [
    "import json\n",
    "import re\n",
    "import numpy as np"
   ]
  },
  {
   "cell_type": "code",
   "execution_count": 2,
   "metadata": {},
   "outputs": [],
   "source": [
    "with open(\"full_debates_raw.json\", \"r\") as f:\n",
    "    debates = json.load(f)"
   ]
  },
  {
   "cell_type": "code",
   "execution_count": 3,
   "metadata": {},
   "outputs": [],
   "source": [
    "def remove_html(text):\n",
    "    \"\"\"\n",
    "    Clean up given string by removing all HTML tags and leaving only plain text\n",
    "    \"\"\"\n",
    "    pattern = re.compile(r\"<[^<]+?>\")\n",
    "    text_clean = re.sub(pattern, \"\", text)\n",
    "    return text_clean\n"
   ]
  },
  {
   "cell_type": "code",
   "execution_count": 4,
   "metadata": {},
   "outputs": [],
   "source": [
    "def get_speaker_list(debate_text):\n",
    "    \"\"\"\n",
    "    Function to obtain list of candidates and moderators for a given debate text\n",
    "    \"\"\"\n",
    "    debate_text_split = debate_text.split(\"<b>\")[1:]\n",
    "    speaker_text = []\n",
    "    for x in debate_text_split:\n",
    "        line_split = x.split(\":</b>\")\n",
    "        speaker_text.append(line_split)\n",
    "    candidates_desc = speaker_text[0][1]\n",
    "    moderators_desc = speaker_text[1][1]\n",
    "    speaker_name_pattern = re.compile(r\"\\w+\\s[\\($]\"\n",
    "                                     \"|\\w+;\")\n",
    "    candidates = [p[:-1].upper().rstrip() for p in re.findall(speaker_name_pattern, candidates_desc) ]\n",
    "    moderators = [p[:-1].upper().rstrip() for p in re.findall(speaker_name_pattern, moderators_desc) ]\n",
    "    return candidates, moderators, remove_html(candidates_desc)\n",
    "    "
   ]
  },
  {
   "cell_type": "code",
   "execution_count": 5,
   "metadata": {},
   "outputs": [],
   "source": [
    "def get_candidate_speech(debate_text):\n",
    "    \"\"\"\n",
    "    Select only text of speech by candidates and ignore moderators. Cleanup, annotate and arrange.\n",
    "    \"\"\"\n",
    "    candidate_list, mod_list, candidates_desc = get_speaker_list(debate_text)\n",
    "    debate_text_split = debate_text.split(\"<b>\")[1:]\n",
    "    candidate_speech = []\n",
    "    for line in debate_text_split:\n",
    "        speaker = line.split(\":\")[0]\n",
    "        speech = line.split(\":\")[1:]\n",
    "        if len(speech)>1:\n",
    "            speech = \"\".join([x for x in speech])\n",
    "        elif len(speech) >0:\n",
    "            speech = speech[0]   \n",
    "        else:\n",
    "            speech = \"\"\n",
    "        for candidate in candidate_list:\n",
    "            if speaker==candidate:\n",
    "                candidate_speech.append([speaker, remove_html(speech)])\n",
    "    return candidate_speech, remove_html(candidates_desc)\n",
    "                \n",
    "                "
   ]
  },
  {
   "cell_type": "code",
   "execution_count": 6,
   "metadata": {},
   "outputs": [
    {
     "data": {
      "text/plain": [
       "(['CLINTON', 'SANDERS'],\n",
       " ['BLITZER'],\n",
       " 'Former Secretary of State Hillary Clinton;Senator Bernie Sanders (VT); ')"
      ]
     },
     "execution_count": 6,
     "metadata": {},
     "output_type": "execute_result"
    }
   ],
   "source": [
    "get_speaker_list(debates[str(5)][\"text\"])"
   ]
  },
  {
   "cell_type": "code",
   "execution_count": 7,
   "metadata": {},
   "outputs": [
    {
     "name": "stdout",
     "output_type": "stream",
     "text": [
      "1 ['CLINTON', 'TRUMP'] ['WALLACE'] http://www.presidency.ucsb.edu/ws/index.php?pid=119039\n",
      "2 ['CLINTON', 'TRUMP'] ['COOPER', 'RADDATZ'] http://www.presidency.ucsb.edu/ws/index.php?pid=119038\n",
      "3 ['CLINTON', 'TRUMP'] ['HOLT'] http://www.presidency.ucsb.edu/ws/index.php?pid=118971\n",
      "4 ['KAINE', 'PENCE'] ['QUIJANO'] http://www.presidency.ucsb.edu/ws/index.php?pid=119012\n",
      "5 ['CLINTON', 'SANDERS'] ['BLITZER'] http://www.presidency.ucsb.edu/ws/index.php?pid=116995\n",
      "6 ['CLINTON', 'SANDERS'] ['RAMOS', 'SALINAS', 'TUMULTY'] http://www.presidency.ucsb.edu/ws/index.php?pid=112719\n",
      "7 ['CLINTON', 'SANDERS'] ['COOPER', 'LEMON'] http://www.presidency.ucsb.edu/ws/index.php?pid=112718\n",
      "8 ['CLINTON', 'SANDERS'] ['IFILL', 'WOODRUFF'] http://www.presidency.ucsb.edu/ws/index.php?pid=111520\n",
      "9 ['CLINTON', 'SANDERS'] ['TODD', 'MADDOW'] http://www.presidency.ucsb.edu/ws/index.php?pid=111471\n",
      "10 ['CLINTON', 'MALLEY', 'SANDERS'] [] http://www.presidency.ucsb.edu/ws/index.php?pid=123351\n",
      "11 ['CLINTON', 'MALLEY', 'SANDERS'] ['HOLT', 'MITCHELL'] http://www.presidency.ucsb.edu/ws/index.php?pid=111409\n",
      "12 ['CLINTON', 'MALLEY', 'SANDERS'] ['RADDATZ', 'MUIR'] http://www.presidency.ucsb.edu/ws/index.php?pid=111178\n",
      "13 ['CLINTON', 'MALLEY', 'SANDERS'] ['CORDES', 'COONEY', 'DICKERSON', 'OBRADOVICH'] http://www.presidency.ucsb.edu/ws/index.php?pid=110910\n",
      "14 ['CHAFEE', 'CLINTON', 'MALLEY', 'SANDERS', 'WEBB'] ['COOPER', 'BASH', 'LEMON', 'LOPEZ'] http://www.presidency.ucsb.edu/ws/index.php?pid=110903\n",
      "15 ['CRUZ', 'KASICH', 'RUBIO', 'TRUMP'] ['TAPPER', 'BASH', 'HEWITT', 'DINAN'] http://www.presidency.ucsb.edu/ws/index.php?pid=115148\n",
      "16 ['CRUZ', 'KASICH', 'RUBIO', 'TRUMP'] ['BAIER', 'KELLY', 'WALLACE'] http://www.presidency.ucsb.edu/ws/index.php?pid=111711\n",
      "17 ['CARSON', 'CRUZ', 'KASICH', 'RUBIO', 'TRUMP'] ['BLITZER'] http://www.presidency.ucsb.edu/ws/index.php?pid=111634\n",
      "18 ['BUSH', 'CARSON', 'CRUZ', 'KASICH', 'RUBIO', 'TRUMP'] ['DICKERSON'] http://www.presidency.ucsb.edu/ws/index.php?pid=111500\n",
      "19 ['BUSH', 'CARSON', 'CHRISTIE', 'CRUZ', 'KASICH', 'RUBIO', 'TRUMP'] ['MUIR', 'RADDATZ'] http://www.presidency.ucsb.edu/ws/index.php?pid=111472\n",
      "20 ['BUSH', 'CARSON', 'CHRISTIE', 'CRUZ', 'KASICH', 'PAUL', 'RUBIO'] ['BAIER', 'KELLY', 'WALLACE'] http://www.presidency.ucsb.edu/ws/index.php?pid=111412\n",
      "21 ['BUSH', 'CARSON', 'CHRISTIE', 'CRUZ', 'KASICH', 'RUBIO', 'TRUMP'] ['BARTIROMO', 'CAVUTO'] http://www.presidency.ucsb.edu/ws/index.php?pid=111395\n",
      "22 ['BUSH', 'CARSON', 'CHRISTIE', 'CRUZ', 'FIORINA', 'KASICH', 'PAUL', 'RUBIO', 'TRUMP'] ['BLITZER', 'BASH', 'HEWITT'] http://www.presidency.ucsb.edu/ws/index.php?pid=111177\n",
      "23 ['BUSH', 'CARSON', 'CRUZ', 'FIORINA', 'KASICH', 'PAUL', 'RUBIO', 'TRUMP'] ['BAKER', 'BARTIROMO', 'CAVUTO'] http://www.presidency.ucsb.edu/ws/index.php?pid=110908\n",
      "24 ['BUSH', 'CARSON', 'CHRISTIE', 'CRUZ', 'FIORINA', 'HUCKABEE', 'KASICH', 'PAUL', 'RUBIO', 'TRUMP'] ['HARWOOD', 'QUICK', 'QUINTANILLA'] http://www.presidency.ucsb.edu/ws/index.php?pid=110906\n",
      "25 ['BUSH', 'CARSON', 'CHRISTIE', 'CRUZ', 'FIORINA', 'HUCKABEE', 'KASICH', 'PAUL', 'RUBIO', 'TRUMP', 'WALKER'] ['TAPPER', 'BASH', 'HEWITT'] http://www.presidency.ucsb.edu/ws/index.php?pid=110756\n",
      "26 ['BUSH', 'CARSON', 'CHRISTIE', 'CRUZ', 'HUCKABEE', 'KASICH', 'PAUL', 'RUBIO', 'TRUMP', 'WALKER'] ['BAIER', 'KELLY', 'WALLACE'] http://www.presidency.ucsb.edu/ws/index.php?pid=110489\n",
      "27 ['FIORINA', 'GILMORE', 'HUCKABEE', 'SANTORUM'] ['HEMMER', 'MACCALLUM'] http://www.presidency.ucsb.edu/ws/index.php?pid=111413\n",
      "28 ['FIORINA', 'HUCKABEE', 'SANTORUM'] ['REGAN', 'SMITH'] http://www.presidency.ucsb.edu/ws/index.php?pid=111394\n",
      "29 ['GRAHAM', 'HUCKABEE', 'PATAKI', 'SANTORUM'] ['BLITZER', 'BASH', 'HEWITT'] http://www.presidency.ucsb.edu/ws/index.php?pid=111176\n",
      "30 ['CHRISTIE', 'HUCKABEE', 'JINDAL', 'SANTORUM'] ['REGAN', 'SEIB', 'SMITH'] http://www.presidency.ucsb.edu/ws/index.php?pid=110909\n",
      "31 ['GRAHAM', 'JINDAL', 'PATAKI', 'SANTORUM'] ['HARWOOD', 'QUICK', 'QUINTANILLA'] http://www.presidency.ucsb.edu/ws/index.php?pid=110907\n",
      "32 ['GRAHAM', 'JINDAL', 'PATAKI', 'SANTORUM'] ['TAPPER', 'BASH', 'HEWITT'] http://www.presidency.ucsb.edu/ws/index.php?pid=110758\n",
      "33 ['FIORINA', 'GILMORE', 'GRAHAM', 'JINDAL', 'PATAKI', 'PERRY', 'SANTORUM'] ['HEMMER', 'MACCALLUM'] http://www.presidency.ucsb.edu/ws/index.php?pid=110757\n",
      "34 [] http://www.presidency.ucsb.edu/ws/index.php?pid=102344\n",
      "35 [] http://www.presidency.ucsb.edu/ws/index.php?pid=102343\n",
      "36 [] http://www.presidency.ucsb.edu/ws/index.php?pid=102317\n",
      "37 [] [] http://www.presidency.ucsb.edu/ws/index.php?pid=102322\n",
      "38 ['GINGRICH', 'PAUL', 'ROMNEY', 'SANTORUM'] ['KING'] http://www.presidency.ucsb.edu/ws/index.php?pid=99556\n",
      "39 ['GINGRICH', 'PAUL', 'ROMNEY', 'SANTORUM'] ['BLITZER'] http://www.presidency.ucsb.edu/ws/index.php?pid=99075\n",
      "40 ['GINGRICH', 'PAUL', 'ROMNEY', 'SANTORUM'] ['WILLIAMS'] http://www.presidency.ucsb.edu/ws/index.php?pid=99001\n",
      "41 ['GINGRICH', 'PAUL', 'ROMNEY', 'SANTORUM'] ['KING'] http://www.presidency.ucsb.edu/ws/index.php?pid=98936\n",
      "42 ['GINGRICH', 'PAUL', 'PERRY', 'ROMNEY', 'SANTORUM'] ['BAIER'] http://www.presidency.ucsb.edu/ws/index.php?pid=98929\n",
      "43 ['GINGRICH', 'HUNTSMAN', 'PAUL', 'PERRY', 'ROMNEY', 'SANTORUM'] ['GREGORY'] http://www.presidency.ucsb.edu/ws/index.php?pid=98814\n",
      "44 ['GINGRICH', 'HUNTSMAN', 'PAUL', 'PERRY', 'ROMNEY', 'SANTORUM'] ['SAWYER', 'STEPHANOPOULOS', 'MCELVEEN'] http://www.presidency.ucsb.edu/ws/index.php?pid=98813\n",
      "45 ['BACHMANN', 'GINGRICH', 'HUNTSMAN', 'PAUL', 'PERRY', 'ROMNEY', 'SANTORUM'] ['BAIER'] http://www.presidency.ucsb.edu/ws/index.php?pid=97978\n",
      "46 ['BACHMANN', 'GINGRICH', 'PAUL', 'PERRY', 'ROMNEY', 'SANTORUM'] ['SAWYER', 'STEPHANOPOULOS'] http://www.presidency.ucsb.edu/ws/index.php?pid=97703\n",
      "47 ['BACHMANN', 'CAIN', 'GINGRICH', 'HUNTSMAN', 'PAUL', 'PERRY', 'ROMNEY', 'SANTORUM'] ['BLITZER'] http://www.presidency.ucsb.edu/ws/index.php?pid=97332\n",
      "48 ['BACHMANN', 'CAIN', 'GINGRICH', 'HUNTSMAN', 'PAUL', 'PERRY', 'ROMNEY', 'SANTORUM'] ['GARRETT', 'PELLEY'] http://www.presidency.ucsb.edu/ws/index.php?pid=97038\n",
      "49 ['BACHMANN', 'CAIN', 'GINGRICH', 'HUNTSMAN', 'PAUL', 'PERRY', 'ROMNEY', 'SANTORUM'] ['BARTIROMO', 'HARWOOD'] http://www.presidency.ucsb.edu/ws/index.php?pid=97022\n",
      "50 ['BACHMANN', 'CAIN', 'GINGRICH', 'PAUL', 'PERRY', 'ROMNEY', 'SANTORUM'] ['COOPER'] http://www.presidency.ucsb.edu/ws/index.php?pid=96914\n",
      "51 ['BACHMANN', 'CAIN', 'GINGRICH', 'HUNTSMAN', 'PAUL', 'PERRY', 'ROMNEY', 'SANTORUM'] ['ROSE', 'TUMULTY', 'GOLDMAN'] http://www.presidency.ucsb.edu/ws/index.php?pid=96894\n",
      "52 ['BACHMANN', 'CAIN', 'GINGRICH', 'HUNTSMAN', 'JOHNSON', 'PAUL', 'PERRY', 'ROMNEY', 'SANTORUM'] ['BAIER', 'KELLY', 'WALLACE'] http://www.presidency.ucsb.edu/ws/index.php?pid=96795\n",
      "53 ['BACHMANN', 'CAIN', 'GINGRICH', 'HUNTSMAN', 'PAUL', 'PERRY', 'ROMNEY', 'SANTORUM'] ['BLITZER'] http://www.presidency.ucsb.edu/ws/index.php?pid=96683\n",
      "54 ['BACHMANN', 'CAIN', 'GINGRICH', 'HUNTSMAN', 'PAUL', 'PERRY', 'ROMNEY', 'SANTORUM'] ['WILLIAMS', 'HARRIS', 'BALART'] http://www.presidency.ucsb.edu/ws/index.php?pid=96659\n",
      "55 ['BACHMANN', 'CAIN', 'GINGRICH', 'PAUL', 'ROMNEY'] ['DEMINT'] http://www.presidency.ucsb.edu/ws/index.php?pid=96660\n",
      "56 ['BACHMANN', 'CAIN', 'GINGRICH', 'HUNTSMAN', 'PAUL', 'PAWLENTY', 'ROMNEY', 'SANTORUM'] ['BAIER', 'FERRECHIO', 'WALLACE', 'YORK'] http://www.presidency.ucsb.edu/ws/index.php?pid=90711\n",
      "57 ['BACHMANN', 'CAIN', 'GINGRICH', 'PAUL', 'PAWLENTY', 'ROMNEY', 'SANTORUM'] ['KING'] http://www.presidency.ucsb.edu/ws/index.php?pid=90513\n",
      "58 ['A', 'PROPOSED'] ['ALLOCATED'] http://www.presidency.ucsb.edu/ws/index.php?pid=84526\n",
      "59 [] [] http://www.presidency.ucsb.edu/ws/index.php?pid=84482\n",
      "60 [] http://www.presidency.ucsb.edu/ws/index.php?pid=78691\n",
      "61 [] [] http://www.presidency.ucsb.edu/ws/index.php?pid=84382\n",
      "62 ['CLINTON', 'OBAMA'] ['GIBSON', 'STEPHANOPOULOS'] http://www.presidency.ucsb.edu/ws/index.php?pid=76913\n",
      "63 ['CLINTON', 'OBAMA'] ['WILLIAMS', 'RUSSERT'] http://www.presidency.ucsb.edu/ws/index.php?pid=76688\n",
      "64 ['CLINTON', 'OBAMA'] ['BROWN', 'RAMOS', 'KING'] http://www.presidency.ucsb.edu/ws/index.php?pid=76563\n",
      "65 ['CLINTON', 'OBAMA'] ['BLITZER', 'MCMANUS', 'CUMMINGS'] http://www.presidency.ucsb.edu/ws/index.php?pid=76339\n",
      "66 ['CLINTON', 'EDWARDS', 'OBAMA'] ['BLITZER', 'MALVEAUX', 'JOHNS'] http://www.presidency.ucsb.edu/ws/index.php?pid=76271\n",
      "67 ['CLINTON', 'EDWARDS', 'OBAMA'] ['WILLIAMS', 'RUSSERT', 'MORALES'] http://www.presidency.ucsb.edu/ws/index.php?pid=76237\n",
      "68 ['CLINTON', 'EDWARDS', 'OBAMA', 'AND', 'RICHARDSON'] ['GIBSON', 'SPRADLING'] http://www.presidency.ucsb.edu/ws/index.php?pid=76224\n",
      "69 ['BIDEN', 'CLINTON', 'DODD', 'EDWARDS', 'OBAMA', 'AND', 'RICHARDSON'] ['WASHBURN'] http://www.presidency.ucsb.edu/ws/index.php?pid=76123\n",
      "70 ['BIDEN', 'CLINTON', 'DODD', 'EDWARDS', 'GRAVEL', 'KUCINICH', 'OBAMA'] ['INSKEEP', 'NORRIS', 'SIEGEL'] http://www.presidency.ucsb.edu/ws/index.php?pid=76122\n",
      "71 ['BIDEN', 'CLINTON', 'DODD', 'EDWARDS', 'KUCINICH', 'OBAMA', 'AND', 'RICHARDSON'] ['BLITZER', 'BROWN', 'MALVEAUX', 'ROBERTS'] http://www.presidency.ucsb.edu/ws/index.php?pid=76041\n",
      "72 ['BIDEN', 'CLINTON', 'DODD', 'EDWARDS', 'KUCINICH', 'OBAMA', 'AND', 'RICHARDSON'] ['RUSSERT', 'WILLIAMS'] http://www.presidency.ucsb.edu/ws/index.php?pid=75950\n",
      "73 ['BIDEN', 'CLINTON', 'DODD', 'EDWARDS', 'GRAVEL', 'KUCINICH', 'OBAMA', 'AND', 'RICHARDSON'] [] http://www.presidency.ucsb.edu/ws/index.php?pid=75796\n",
      "74 ['CLINTON', 'DODD', 'EDWARDS', 'GRAVEL', 'KUCINICH', 'OBAMA', 'RICHARDSON'] ['RAMOS', 'SALINAS', 'SENATOR', 'IRAQ', 'T', 'WE', 'STATES', '13', 'HAVE', 'AMERICA', 'SPEND', 'CRITICAL', 'IMPORTANT', 'ON', 'SENATOR', 'SPENDING', 'SECURITY', 'CONTINUED', 'COMMUNITY', 'IT', 'COSTS', '90', 'TO', 'OVER', 'MAKE', 'SENATE', 'FANNIE', 'WORKERS', 'VOTE'] http://www.presidency.ucsb.edu/ws/index.php?pid=76561\n",
      "75 [] http://www.presidency.ucsb.edu/ws/index.php?pid=75664\n",
      "76 ['CLINTON', 'DODD', 'EDWARDS', 'KUCINICH', 'OBAMA', 'RICHARDSON'] [] http://www.presidency.ucsb.edu/ws/index.php?pid=75631\n",
      "77 ['CLINTON', 'DODD', 'EDWARDS', 'GRAVEL', 'KUCINICH', 'OBAMA', 'RICHARDSON'] [] http://www.presidency.ucsb.edu/ws/index.php?pid=75575\n",
      "78 ['CLINTON', 'DODD', 'EDWARDS', 'GRAVEL', 'KUCINICH', 'OBAMA', 'RICHARDSON'] [] http://www.presidency.ucsb.edu/ws/index.php?pid=75489\n",
      "79 [] [] http://www.presidency.ucsb.edu/ws/index.php?pid=75140\n",
      "80 [] http://www.presidency.ucsb.edu/ws/index.php?pid=74349\n",
      "81 ['HUCKABEE', 'MCCAIN', 'PAUL', 'ROMNEY'] ['COOPER', 'HOOK', 'VANDEHEI'] http://www.presidency.ucsb.edu/ws/index.php?pid=76338\n",
      "82 ['GIULIANI', 'HUCKABEE', 'MCCAIN', 'PAUL', 'ROMNEY'] ['WILLIAMS', 'RUSSERT', 'TASH'] http://www.presidency.ucsb.edu/ws/index.php?pid=76300\n",
      "83 ['GIULIANI', 'HUCKABEE', 'MCCAIN', 'PAUL', 'ROMNEY', 'THOMPSON'] ['HUME', 'WALLACE', 'CAMERON', 'GOLER'] http://www.presidency.ucsb.edu/ws/index.php?pid=62265\n",
      "84 ['GIULIANI', 'HUCKABEE', 'MCCAIN', 'ROMNEY', 'THOMPSON'] ['WALLACE'] http://www.presidency.ucsb.edu/ws/index.php?pid=29427\n",
      "85 ['GIULIANI', 'HUCKABEE', 'MCCAIN', 'PAUL', 'ROMNEY', 'THOMPSON'] ['GIBSON', 'SPRADLING'] http://www.presidency.ucsb.edu/ws/index.php?pid=76223\n",
      "86 ['GIULIANI', 'HUCKABEE', 'HUNTER', 'KEYES', 'MCCAIN', 'PAUL', 'ROMNEY', 'TANCREDO', 'THOMPSON'] [] http://www.presidency.ucsb.edu/ws/index.php?pid=29664\n",
      "87 [] http://www.presidency.ucsb.edu/ws/index.php?pid=76562\n",
      "88 ['GIULIANI', 'HUCKABEE', 'HUNTER', 'MCCAIN', 'PAUL', 'ROMNEY', 'TANCREDO', 'THOMPSON'] ['CNN', 'CNN', 'CNN'] http://www.presidency.ucsb.edu/ws/index.php?pid=76069\n",
      "89 ['GIULIANI', 'HUCKABEE', 'HUNTER', 'MCCAIN', 'PAUL', 'ROMNEY', 'TANCREDO', 'THOMPSON'] ['NEWS', 'NEWS', 'NEWS'] http://www.presidency.ucsb.edu/ws/index.php?pid=75914\n",
      "90 ['BROWNBACK', 'GIULIANI', 'HUCKABEE', 'HUNTER', 'MCCAIN', 'PAUL', 'ROMNEY', 'TANCREDO', 'THOMPSON'] ['MSNBC', 'CNBC', 'CNBC'] http://www.presidency.ucsb.edu/ws/index.php?pid=75861\n",
      "91 ['BROWNBACK', 'HUCKABEE', 'HUNTER', 'KEYES', 'PAUL', 'TANCREDO'] [] http://www.presidency.ucsb.edu/ws/index.php?pid=75913\n",
      "92 ['BROWNBACK', 'GIULIANI', 'HUCKABEE', 'HUNTER', 'MCCAIN', 'PAUL', 'ROMNEY', 'TANCREDO'] ['HUME'] http://www.presidency.ucsb.edu/ws/index.php?pid=75680\n",
      "93 ['BROWNBACK', 'HUNTER', 'ROMNEY', 'MCCAIN', 'TANCREDO', 'GIULIANI', 'PAUL', 'THOMPSON', 'HUCKABEE'] ['STEPHANOPOULOS', 'YEPSEN'] http://www.presidency.ucsb.edu/ws/index.php?pid=75630\n",
      "94 [] [] http://www.presidency.ucsb.edu/ws/index.php?pid=75171\n",
      "95 ['BROWNBACK', 'GILMORE', 'GIULIANI', 'HUNTER', 'HUCKABEE', 'MCCAIN', 'PAUL', 'ROMNEY', 'TANCREDO'] [] http://www.presidency.ucsb.edu/ws/index.php?pid=74348\n",
      "96 [] http://www.presidency.ucsb.edu/ws/index.php?pid=74350\n",
      "97 [] http://www.presidency.ucsb.edu/ws/index.php?pid=63163\n",
      "98 [] http://www.presidency.ucsb.edu/ws/index.php?pid=72776\n",
      "99 [] http://www.presidency.ucsb.edu/ws/index.php?pid=72770\n",
      "100 [] http://www.presidency.ucsb.edu/ws/index.php?pid=29428\n",
      "101 [] [] http://www.presidency.ucsb.edu/ws/index.php?pid=75118\n",
      "102 ['MANCHESTER', 'MANCHESTER'] ['HOUR'] http://www.presidency.ucsb.edu/ws/index.php?pid=74351\n",
      "103 [] http://www.presidency.ucsb.edu/ws/index.php?pid=29420\n",
      "104 [] http://www.presidency.ucsb.edu/ws/index.php?pid=29419\n",
      "105 [] http://www.presidency.ucsb.edu/ws/index.php?pid=29418\n",
      "106 [] http://www.presidency.ucsb.edu/ws/index.php?pid=29421\n",
      "107 ['BRADLEY', 'AND'] [] http://www.presidency.ucsb.edu/ws/index.php?pid=105446\n",
      "108 ['BRADLEY', 'AND'] [] http://www.presidency.ucsb.edu/ws/index.php?pid=105445\n",
      "109 ['BRADLEY', 'AND'] ['WMUR'] http://www.presidency.ucsb.edu/ws/index.php?pid=105444\n",
      "110 ['BRADLEY', 'AND'] ['NEWS'] http://www.presidency.ucsb.edu/ws/index.php?pid=105449\n",
      "111 ['BRADLEY', 'AND'] [] http://www.presidency.ucsb.edu/ws/index.php?pid=105448\n",
      "112 ['BRADLEY', 'AND'] [] http://www.presidency.ucsb.edu/ws/index.php?pid=109919\n",
      "113 ['BRADLEY', 'AND'] [] http://www.presidency.ucsb.edu/ws/index.php?pid=105447\n",
      "114 ['BRADLEY', 'AND'] ['WMUR'] http://www.presidency.ucsb.edu/ws/index.php?pid=105443\n",
      "115 ['BUSH', 'KEYES', 'MCCAIN'] ['CNN'] http://www.presidency.ucsb.edu/ws/index.php?pid=105442\n",
      "116 ['BUSH', 'KEYES', 'MCCAIN'] [] http://www.presidency.ucsb.edu/ws/index.php?pid=105441\n",
      "117 ['BAUER', 'BUSH', 'FORBES', 'KEYES', 'MCCAIN'] ['TV'] http://www.presidency.ucsb.edu/ws/index.php?pid=105440\n",
      "118 ['BAUER', 'BUSH', 'FORBES', 'HATCH', 'KEYES', 'MCCAIN'] [] http://www.presidency.ucsb.edu/ws/index.php?pid=105439\n",
      "119 ['BAUER', 'BUSH', 'FORBES', 'HATCH', 'KEYES', 'MCCAIN'] ['NEWS', 'TV'] http://www.presidency.ucsb.edu/ws/index.php?pid=105438\n",
      "120 ['BAUER', 'BUSH', 'FORBES', 'HATCH', 'KEYES', 'MCCAIN'] ['NEWS'] http://www.presidency.ucsb.edu/ws/index.php?pid=105437\n",
      "121 ['BUSH', 'BAUER', 'HATCH', 'FORBES', 'KEYES', 'MCCAIN'] ['BROKAW', 'BACHMAN'] http://www.presidency.ucsb.edu/ws/index.php?pid=76120\n",
      "122 [] ['HERE', 'BAUER', 'BUSH', 'HATCH', 'BOSTON', 'KEYES', 'CHILDREN', 'SPENDING'] http://www.presidency.ucsb.edu/ws/index.php?pid=75089\n",
      "123 ['BAUER', 'BUSH', 'FORBES', 'HATCH', 'KEYES', 'MCCAIN'] ['NEWS'] http://www.presidency.ucsb.edu/ws/index.php?pid=105436\n",
      "124 ['BAUER', 'FORBES', 'HATCH', 'KEYES', 'MCCAIN'] ['CNN'] http://www.presidency.ucsb.edu/ws/index.php?pid=105435\n",
      "125 [] ['SECURITY', 'YEARS'] http://www.presidency.ucsb.edu/ws/index.php?pid=75090\n",
      "126 [] http://www.presidency.ucsb.edu/ws/index.php?pid=52115\n",
      "127 [] http://www.presidency.ucsb.edu/ws/index.php?pid=52060\n",
      "128 [] http://www.presidency.ucsb.edu/ws/index.php?pid=29422\n",
      "129 [] http://www.presidency.ucsb.edu/ws/index.php?pid=21625\n",
      "130 [] http://www.presidency.ucsb.edu/ws/index.php?pid=21617\n",
      "131 [] http://www.presidency.ucsb.edu/ws/index.php?pid=21605\n",
      "132 [] http://www.presidency.ucsb.edu/ws/index.php?pid=29423\n",
      "133 [] http://www.presidency.ucsb.edu/ws/index.php?pid=29412\n",
      "134 [] http://www.presidency.ucsb.edu/ws/index.php?pid=29411\n",
      "135 [] http://www.presidency.ucsb.edu/ws/index.php?pid=29424\n",
      "136 [] http://www.presidency.ucsb.edu/ws/index.php?pid=39296\n",
      "137 [] http://www.presidency.ucsb.edu/ws/index.php?pid=39199\n",
      "138 [] http://www.presidency.ucsb.edu/ws/index.php?pid=29425\n",
      "139 [] http://www.presidency.ucsb.edu/ws/index.php?pid=29408\n",
      "140 [] http://www.presidency.ucsb.edu/ws/index.php?pid=29407\n",
      "141 [] http://www.presidency.ucsb.edu/ws/index.php?pid=6517\n",
      "142 [] http://www.presidency.ucsb.edu/ws/index.php?pid=6414\n",
      "143 [] http://www.presidency.ucsb.edu/ws/index.php?pid=29404\n",
      "144 [] http://www.presidency.ucsb.edu/ws/index.php?pid=62249\n",
      "145 [] http://www.presidency.ucsb.edu/ws/index.php?pid=29403\n",
      "146 [] http://www.presidency.ucsb.edu/ws/index.php?pid=29402\n",
      "147 [] http://www.presidency.ucsb.edu/ws/index.php?pid=29401\n",
      "148 [] http://www.presidency.ucsb.edu/ws/index.php?pid=29400\n"
     ]
    }
   ],
   "source": [
    "for i in np.arange(1, 149):\n",
    "    try:\n",
    "        candidates, moderators, candidates_desc = get_speaker_list(debates[str(i)][\"text\"])\n",
    "        print(i, candidates, moderators, debates[str(i)][\"url\"])\n",
    "    except:\n",
    "        print(i, [], debates[str(i)][\"url\"])\n"
   ]
  },
  {
   "cell_type": "markdown",
   "metadata": {},
   "source": [
    "### Select debates where this speaker identification scheme works"
   ]
  },
  {
   "cell_type": "markdown",
   "metadata": {},
   "source": [
    "We'll devise a different scheme for the other debates. Some of them def require manual annotation"
   ]
  },
  {
   "cell_type": "code",
   "execution_count": 8,
   "metadata": {},
   "outputs": [],
   "source": [
    "part1 = np.concatenate([np.arange(1,34), np.arange(38,58), \n",
    "                   np.arange(62,75), np.arange(76,79), \n",
    "                   np.arange(81,87), np.arange(88,94), [95], \n",
    "                   np.arange(115,125)])"
   ]
  },
  {
   "cell_type": "code",
   "execution_count": 9,
   "metadata": {},
   "outputs": [
    {
     "data": {
      "text/plain": [
       "array([  1,   2,   3,   4,   5,   6,   7,   8,   9,  10,  11,  12,  13,\n",
       "        14,  15,  16,  17,  18,  19,  20,  21,  22,  23,  24,  25,  26,\n",
       "        27,  28,  29,  30,  31,  32,  33,  38,  39,  40,  41,  42,  43,\n",
       "        44,  45,  46,  47,  48,  49,  50,  51,  52,  53,  54,  55,  56,\n",
       "        57,  62,  63,  64,  65,  66,  67,  68,  69,  70,  71,  72,  73,\n",
       "        74,  76,  77,  78,  81,  82,  83,  84,  85,  86,  88,  89,  90,\n",
       "        91,  92,  93,  95, 115, 116, 117, 118, 119, 120, 121, 122, 123,\n",
       "       124])"
      ]
     },
     "execution_count": 9,
     "metadata": {},
     "output_type": "execute_result"
    }
   ],
   "source": [
    "part1"
   ]
  },
  {
   "cell_type": "code",
   "execution_count": 10,
   "metadata": {},
   "outputs": [
    {
     "data": {
      "text/plain": [
       "92"
      ]
     },
     "execution_count": 10,
     "metadata": {},
     "output_type": "execute_result"
    }
   ],
   "source": [
    "len(part1)"
   ]
  },
  {
   "cell_type": "code",
   "execution_count": 11,
   "metadata": {},
   "outputs": [],
   "source": [
    "debates_clean = {}"
   ]
  },
  {
   "cell_type": "code",
   "execution_count": 12,
   "metadata": {},
   "outputs": [],
   "source": [
    "for i in part1:\n",
    "    debates_clean[str(i)] = {}\n",
    "    candidates_speech, candidates_desc = get_candidate_speech(debates[str(i)][\"text\"])\n",
    "    debates_clean[str(i)][\"candidates_desc\"] = candidates_desc\n",
    "    debates_clean[str(i)][\"candidates_speech\"] = candidates_speech\n",
    "    debates_clean[str(i)][\"date\"] = debates[str(i)][\"date\"]\n",
    "    debates_clean[str(i)][\"desc\"] = debates[str(i)][\"desc\"]\n",
    "    debates_clean[str(i)][\"url\"] = debates[str(i)][\"url\"]\n",
    "    "
   ]
  },
  {
   "cell_type": "code",
   "execution_count": 13,
   "metadata": {},
   "outputs": [],
   "source": [
    "with open(\"debates_clean_part1.json\", \"w\") as f:\n",
    "    json.dump(debates_clean, f, indent=4)"
   ]
  },
  {
   "cell_type": "code",
   "execution_count": null,
   "metadata": {},
   "outputs": [],
   "source": []
  }
 ],
 "metadata": {
  "kernelspec": {
   "display_name": "Python 3",
   "language": "python",
   "name": "python3"
  },
  "language_info": {
   "codemirror_mode": {
    "name": "ipython",
    "version": 3
   },
   "file_extension": ".py",
   "mimetype": "text/x-python",
   "name": "python",
   "nbconvert_exporter": "python",
   "pygments_lexer": "ipython3",
   "version": "3.6.4"
  }
 },
 "nbformat": 4,
 "nbformat_minor": 2
}
